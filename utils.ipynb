{
 "cells": [
  {
   "cell_type": "code",
   "execution_count": 1,
   "id": "d425a71b-a428-4fd4-8bd0-55dc89193e86",
   "metadata": {},
   "outputs": [],
   "source": [
    "import requests"
   ]
  },
  {
   "cell_type": "code",
   "execution_count": 3,
   "id": "d5ec309d-2e14-4ad5-be2d-9679f73cd740",
   "metadata": {},
   "outputs": [
    {
     "name": "stdout",
     "output_type": "stream",
     "text": [
      "Hello World\n"
     ]
    }
   ],
   "source": [
    "def clean_text(text):\n",
    "    \"\"\"Remove extra spaces and newlines from text.\"\"\"\n",
    "    if text is None:\n",
    "        return \"\"\n",
    "    text = text.strip()\n",
    "    text = \" \".join(text.split())\n",
    "    return text\n",
    "print(clean_text(\"   Hello   World  \\n\"))"
   ]
  },
  {
   "cell_type": "code",
   "execution_count": 10,
   "id": "02ccb164-5582-4307-8e50-03da0e40c2c9",
   "metadata": {},
   "outputs": [
    {
     "name": "stdout",
     "output_type": "stream",
     "text": [
      "\n",
      "    <!DOCTYPE html>\n",
      "    <html lang=\"en-US\" class=\"theme-beta\">\n",
      "      <head prefix=\"og: https://ogp.me/ns#\">\n",
      "        <title>Reddit - The heart of the internet</title>\n",
      "        <meta name=\"viewport\" con\n"
     ]
    }
   ],
   "source": [
    "def fetch_url(url, timeout=10):\n",
    "    try:\n",
    "        response = requests.get(url, timeout=timeout)\n",
    "        response.raise_for_status()\n",
    "        return response.text\n",
    "    except requests.exceptions.RequestException as e:\n",
    "        print(f\"Error fetching {url}: {e}\")\n",
    "        return None\n",
    "\n",
    "html = fetch_url(\"https://www.reddit.com\")\n",
    "print(html[:200])"
   ]
  },
  {
   "cell_type": "code",
   "execution_count": 13,
   "id": "1ed9db13-f30a-4c9c-942d-8274e3071c69",
   "metadata": {},
   "outputs": [
    {
     "name": "stdout",
     "output_type": "stream",
     "text": [
      "All tests passed!\n"
     ]
    }
   ],
   "source": [
    "#simple tests\n",
    "assert clean_text(\"  Hello   \") == \"Hello\"\n",
    "assert clean_text(None) == \"\"\n",
    "print(\"All tests passed!\")"
   ]
  },
  {
   "cell_type": "code",
   "execution_count": null,
   "id": "63669d58-a5d4-497d-b204-338846a783ba",
   "metadata": {},
   "outputs": [],
   "source": []
  }
 ],
 "metadata": {
  "kernelspec": {
   "display_name": "Python 3 (ipykernel)",
   "language": "python",
   "name": "python3"
  },
  "language_info": {
   "codemirror_mode": {
    "name": "ipython",
    "version": 3
   },
   "file_extension": ".py",
   "mimetype": "text/x-python",
   "name": "python",
   "nbconvert_exporter": "python",
   "pygments_lexer": "ipython3",
   "version": "3.11.13"
  }
 },
 "nbformat": 4,
 "nbformat_minor": 5
}
