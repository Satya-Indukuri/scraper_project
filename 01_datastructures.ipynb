{
 "cells": [
  {
   "cell_type": "markdown",
   "id": "21b6a537-b0e0-4def-89fb-58e70d3fc93c",
   "metadata": {},
   "source": [
    "### Python Core Data Structures\n",
    "\n",
    "- **List:** ordered, mutable  \n",
    "  Example: `nums = [1, 2, 3]`  \n",
    "  Methods: `append()`, `pop()`, slicing, comprehensions  \n",
    "\n",
    "- **Tuple:** ordered, immutable  \n",
    "  Example: `coords = (10, 20)`  \n",
    "  Supports unpacking: `x, y = coords`  \n",
    "\n",
    "- **Set:** unordered, unique elements  \n",
    "  Example: `s = {1, 2, 3}`  \n",
    "  Operations: union `|`, intersection `&`, difference `-`  \n",
    "\n",
    "- **Dictionary:** key-value pairs  \n",
    "  Example: `user = {'name': 'Alice', 'age': 22}`  \n",
    "  Methods: `.get()`, `.items()`, `.setdefault()`, comprehensions\n"
   ]
  },
  {
   "cell_type": "code",
   "execution_count": 15,
   "id": "eefda0fa-b3ba-4471-8ef0-fdaf3be3d235",
   "metadata": {},
   "outputs": [
    {
     "name": "stdout",
     "output_type": "stream",
     "text": [
      "799\n",
      "687.25\n"
     ]
    }
   ],
   "source": [
    "#average\n",
    "products = [\n",
    "    {\"name\": \"Phone\", \"price\": 799},\n",
    "    {\"name\": \"Laptop\", \"price\": 1200},\n",
    "    {\"name\": \"Tablet\", \"price\": 450},\n",
    "    {\"name\": \"Monitor\", \"price\": 300}\n",
    "]\n",
    "print(products[0][\"price\"])\n",
    "average = sum(p[\"price\"] for p in products)/len(products)\n",
    "print(average)"
   ]
  },
  {
   "cell_type": "code",
   "execution_count": 20,
   "id": "f3cf6f37-20b6-4383-b780-95dd71e8312e",
   "metadata": {},
   "outputs": [
    {
     "name": "stdout",
     "output_type": "stream",
     "text": [
      "{'machine': 2, 'learning': 2, 'makes': 1, 'machines': 1, 'learn': 1}\n"
     ]
    }
   ],
   "source": [
    "#frequencies\n",
    "text = \"machine learning makes machines learn learning machine\"\n",
    "words = text.split()\n",
    "freq={}\n",
    "for word in words:\n",
    "    # if word in freq:\n",
    "    #     freq[word] = freq[word]+1\n",
    "    # else:\n",
    "    #     freq[word] = 1\n",
    "    freq[word] = freq.get(word, 0) + 1\n",
    "print(freq)"
   ]
  },
  {
   "cell_type": "code",
   "execution_count": 23,
   "id": "34ffa93f-a30d-41ba-b154-d730212ff37e",
   "metadata": {},
   "outputs": [
    {
     "name": "stdout",
     "output_type": "stream",
     "text": [
      "[10, 30, 50]\n",
      "[100, 900, 2500]\n"
     ]
    }
   ],
   "source": [
    "#comprehesions\n",
    "nums = [10, 25, 30, 45, 50]\n",
    "filtered = [n for n in nums if n%10==0]\n",
    "print(filtered)\n",
    "squared = [n**2 for n in filtered]\n",
    "print(squared)"
   ]
  },
  {
   "cell_type": "code",
   "execution_count": 25,
   "id": "6a2609de-4713-4da2-a874-22cbb28f394b",
   "metadata": {},
   "outputs": [
    {
     "name": "stdout",
     "output_type": "stream",
     "text": [
      "{0: 'a', 1: 'b', 2: 'c'}\n"
     ]
    }
   ],
   "source": [
    "dict = {k: v for k, v in enumerate(['a', 'b', 'c'])}\n",
    "print(dict)"
   ]
  },
  {
   "cell_type": "code",
   "execution_count": null,
   "id": "f5698221-7603-4105-9181-cb18a2ebed60",
   "metadata": {},
   "outputs": [],
   "source": []
  }
 ],
 "metadata": {
  "kernelspec": {
   "display_name": "Python 3 (ipykernel)",
   "language": "python",
   "name": "python3"
  },
  "language_info": {
   "codemirror_mode": {
    "name": "ipython",
    "version": 3
   },
   "file_extension": ".py",
   "mimetype": "text/x-python",
   "name": "python",
   "nbconvert_exporter": "python",
   "pygments_lexer": "ipython3",
   "version": "3.11.13"
  }
 },
 "nbformat": 4,
 "nbformat_minor": 5
}
