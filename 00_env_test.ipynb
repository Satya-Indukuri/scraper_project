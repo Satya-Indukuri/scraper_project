{
 "cells": [
  {
   "cell_type": "code",
   "execution_count": 1,
   "id": "88186012-92f0-4b5e-9da6-066a76cf2860",
   "metadata": {},
   "outputs": [],
   "source": [
    "import sys\n",
    "import requests\n",
    "from bs4 import BeautifulSoup"
   ]
  },
  {
   "cell_type": "code",
   "execution_count": 3,
   "id": "aaac3b38-02ab-4d18-835a-f08cd348bfc4",
   "metadata": {},
   "outputs": [
    {
     "name": "stdout",
     "output_type": "stream",
     "text": [
      "python executables:  C:\\Users\\issva\\anaconda3\\envs\\ml_sprint\\python.exe\n",
      "requests version:  2.32.5\n"
     ]
    }
   ],
   "source": [
    "print(\"python executables: \", sys.executable)\n",
    "print(\"requests version: \",requests.__version__)"
   ]
  },
  {
   "cell_type": "code",
   "execution_count": null,
   "id": "66d6a34d-086b-439b-8db9-53f859fcd29b",
   "metadata": {},
   "outputs": [],
   "source": []
  }
 ],
 "metadata": {
  "kernelspec": {
   "display_name": "Python 3 (ipykernel)",
   "language": "python",
   "name": "python3"
  },
  "language_info": {
   "codemirror_mode": {
    "name": "ipython",
    "version": 3
   },
   "file_extension": ".py",
   "mimetype": "text/x-python",
   "name": "python",
   "nbconvert_exporter": "python",
   "pygments_lexer": "ipython3",
   "version": "3.11.13"
  }
 },
 "nbformat": 4,
 "nbformat_minor": 5
}
